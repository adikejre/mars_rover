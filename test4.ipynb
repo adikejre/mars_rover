{
 "cells": [
  {
   "cell_type": "code",
   "execution_count": 1,
   "source": [
    "import tensorflow as tf\r\n"
   ],
   "outputs": [],
   "metadata": {}
  },
  {
   "cell_type": "code",
   "execution_count": 2,
   "source": [
    "print(tf.__version__)\r\n",
    "print(\"Num GPUs Available: \", len(tf.config.list_physical_devices('GPU')))"
   ],
   "outputs": [
    {
     "output_type": "stream",
     "name": "stdout",
     "text": [
      "2.10.0\n",
      "Num GPUs Available:  1\n"
     ]
    }
   ],
   "metadata": {}
  },
  {
   "cell_type": "code",
   "execution_count": 8,
   "source": [
    "#find dulplicate characters\r\n",
    "\r\n",
    "\r\n",
    "s=\"hellooo worldd\"\r\n",
    "\r\n",
    "dict={}\r\n",
    "\r\n",
    "for i in s:\r\n",
    "    if i in dict:\r\n",
    "        dict[i]+=1\r\n",
    "    else:\r\n",
    "        dict[i]=1\r\n",
    "\r\n",
    "print(dict)\r\n",
    "\r\n",
    "for k in dict:\r\n",
    "    if (dict[k]>1):\r\n",
    "        print (k)\r\n",
    "\r\n",
    "\r\n",
    "#to iterate dict\r\n",
    "\r\n",
    "for k,v in dict.items():\r\n",
    "    print(k,v)\r\n",
    "\r\n",
    "for v in dict.values():\r\n",
    "    print(v)"
   ],
   "outputs": [
    {
     "output_type": "stream",
     "name": "stdout",
     "text": [
      "{'h': 1, 'e': 1, 'l': 3, 'o': 4, ' ': 1, 'w': 1, 'r': 1, 'd': 2}\n",
      "l\n",
      "o\n",
      "d\n",
      "h 1\n",
      "e 1\n",
      "l 3\n",
      "o 4\n",
      "  1\n",
      "w 1\n",
      "r 1\n",
      "d 2\n",
      "1\n",
      "1\n",
      "3\n",
      "4\n",
      "1\n",
      "1\n",
      "1\n",
      "2\n"
     ]
    }
   ],
   "metadata": {}
  },
  {
   "cell_type": "code",
   "execution_count": 13,
   "source": [
    "#tuples are immutablle\r\n",
    "\r\n",
    "# Tuple unpacking\r\n",
    "Tuple1 = (\"Geeks\", \"For\", \"Geeks\")\r\n",
    " \r\n",
    "a, b, c = Tuple1\r\n",
    "print(\"\\nValues after unpacking: \")\r\n",
    "print(a)\r\n",
    "print(b)\r\n",
    "print(c)\r\n",
    "\r\n",
    "\r\n",
    "Tup2=(2,4,23,4)\r\n",
    "Tup3=(\"abc\",)\r\n",
    "\r\n",
    "t4=Tup2+Tup3\r\n",
    "print(t4)\r\n",
    "\r\n",
    "\r\n",
    "t1=(2,2,2,4,2,5,6,1,2)\r\n",
    "print(t1.count(2))  # this is a method\r\n",
    "print(sum(t1))  # this is a function\r\n",
    "\r\n",
    "\r\n",
    "#iteration is faster than a list"
   ],
   "outputs": [
    {
     "output_type": "stream",
     "name": "stdout",
     "text": [
      "\n",
      "Values after unpacking: \n",
      "Geeks\n",
      "For\n",
      "Geeks\n",
      "(2, 4, 23, 4, 'abc')\n",
      "5\n",
      "26\n"
     ]
    }
   ],
   "metadata": {}
  },
  {
   "cell_type": "code",
   "execution_count": 14,
   "source": [
    "print(3+5+45//2//3-1)"
   ],
   "outputs": [
    {
     "output_type": "stream",
     "name": "stdout",
     "text": [
      "14\n"
     ]
    }
   ],
   "metadata": {}
  },
  {
   "cell_type": "code",
   "execution_count": null,
   "source": [],
   "outputs": [],
   "metadata": {}
  }
 ],
 "metadata": {
  "orig_nbformat": 4,
  "language_info": {
   "name": "python",
   "version": "3.7.13",
   "mimetype": "text/x-python",
   "codemirror_mode": {
    "name": "ipython",
    "version": 3
   },
   "pygments_lexer": "ipython3",
   "nbconvert_exporter": "python",
   "file_extension": ".py"
  },
  "kernelspec": {
   "name": "python3",
   "display_name": "Python 3.7.13 64-bit ('gpu-tflow': conda)"
  },
  "interpreter": {
   "hash": "3561e9c915ec4b27553d734933be1810a57e9fbb84e48165c57a543190c40778"
  }
 },
 "nbformat": 4,
 "nbformat_minor": 2
}