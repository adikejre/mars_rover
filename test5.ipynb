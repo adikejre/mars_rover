{
 "cells": [
  {
   "cell_type": "code",
   "execution_count": 21,
   "metadata": {},
   "outputs": [],
   "source": [
    "import gym\n",
    "# import gymnasium as gym\n",
    "\n"
   ]
  },
  {
   "cell_type": "code",
   "execution_count": 22,
   "metadata": {},
   "outputs": [
    {
     "name": "stderr",
     "output_type": "stream",
     "text": [
      "c:\\Users\\adity\\anaconda3\\envs\\rl-pathfinding\\lib\\site-packages\\gym\\utils\\passive_env_checker.py:233: DeprecationWarning: `np.bool8` is a deprecated alias for `np.bool_`.  (Deprecated NumPy 1.24)\n",
      "  if not isinstance(terminated, (bool, np.bool8)):\n"
     ]
    }
   ],
   "source": [
    "from time import sleep\n",
    "env = gym.make('LunarLander-v2', render_mode=\"human\")  # continuous: LunarLanderContinuous-v2\n",
    "env.reset()\n",
    "\n",
    "for step in range(200):\n",
    "\tenv.render()\n",
    "\tsleep(0.03)\n",
    "\t# take random action\n",
    "\tenv.step(env.action_space.sample())\n",
    "\n",
    "env.close()"
   ]
  },
  {
   "cell_type": "code",
   "execution_count": 12,
   "metadata": {},
   "outputs": [
    {
     "name": "stdout",
     "output_type": "stream",
     "text": [
      "sample action: 0\n"
     ]
    }
   ],
   "source": [
    "print(\"sample action:\", env.action_space.sample())"
   ]
  },
  {
   "cell_type": "code",
   "execution_count": 13,
   "metadata": {},
   "outputs": [
    {
     "name": "stdout",
     "output_type": "stream",
     "text": [
      "sample observation: [ 0.70913225  0.6562002   2.4513288   2.1018486   1.594812   -3.6605492\n",
      "  0.09252594  0.15245685]\n"
     ]
    }
   ],
   "source": [
    "print(\"sample observation:\", env.observation_space.sample())"
   ]
  },
  {
   "cell_type": "code",
   "execution_count": null,
   "metadata": {},
   "outputs": [],
   "source": []
  }
 ],
 "metadata": {
  "interpreter": {
   "hash": "3561e9c915ec4b27553d734933be1810a57e9fbb84e48165c57a543190c40778"
  },
  "kernelspec": {
   "display_name": "Python 3.7.13 64-bit ('gpu-tflow': conda)",
   "name": "python3"
  },
  "language_info": {
   "codemirror_mode": {
    "name": "ipython",
    "version": 3
   },
   "file_extension": ".py",
   "mimetype": "text/x-python",
   "name": "python",
   "nbconvert_exporter": "python",
   "pygments_lexer": "ipython3",
   "version": "3.10.14"
  },
  "orig_nbformat": 4
 },
 "nbformat": 4,
 "nbformat_minor": 2
}
